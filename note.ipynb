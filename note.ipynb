{
 "cells": [
  {
   "cell_type": "code",
   "execution_count": 1,
   "metadata": {},
   "outputs": [],
   "source": [
    "from code_challenge import MiniVenmo"
   ]
  },
  {
   "cell_type": "code",
   "execution_count": 2,
   "metadata": {},
   "outputs": [
    {
     "name": "stdout",
     "output_type": "stream",
     "text": [
      "# Doing some payments\n",
      "Bobby paid Carol $5.00 for Coffee\n",
      "Carol paid Bobby $15.00 for Lunch\n",
      "\n",
      "# Adding a new friend\n",
      "Bobby paid Carol $5.00 for Coffee\n",
      "Carol paid Bobby $15.00 for Lunch\n",
      "Bobby and Carol are now friends.\n"
     ]
    }
   ],
   "source": [
    "MiniVenmo.run()"
   ]
  }
 ],
 "metadata": {
  "kernelspec": {
   "display_name": "taller_interview",
   "language": "python",
   "name": "python3"
  },
  "language_info": {
   "codemirror_mode": {
    "name": "ipython",
    "version": 3
   },
   "file_extension": ".py",
   "mimetype": "text/x-python",
   "name": "python",
   "nbconvert_exporter": "python",
   "pygments_lexer": "ipython3",
   "version": "3.12.9"
  }
 },
 "nbformat": 4,
 "nbformat_minor": 2
}
